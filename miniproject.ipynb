{
 "cells": [
  {
   "cell_type": "code",
   "execution_count": null,
   "id": "0d4b589d-6d5d-4008-83f3-a7607190a675",
   "metadata": {},
   "outputs": [],
   "source": [
    "import random\n",
    "import string\n",
    "\n",
    "print(\"welcome to automated password generator\")\n",
    "lower=string.ascii_lowercase\n",
    "upper=string.ascii_uppercase\n",
    "num=string.digits\n",
    "symbols=string.punctuation\n",
    "a=lower+upper+num+symbols\n",
    "len=int(input(\"enter the length\"))\n",
    "password=\"\"\n",
    "for i in range(len):\n",
    "    password=password+random.choice(a)\n",
    "print(password)\n",
    "\n"
   ]
  },
  {
   "cell_type": "code",
   "execution_count": null,
   "id": "4e683e2f-2ab7-4560-8ba4-e664767f9702",
   "metadata": {},
   "outputs": [],
   "source": [
    "import random\n",
    "import string\n",
    "\n",
    "print(\"welcome to automated password generator\")\n",
    "\n",
    "\n",
    "len=int(input(\"enter the length\"))\n",
    "password=\"\"\n",
    "\n",
    "low=int(input(\"enter the no.of lowercase letters\"))\n",
    "upp=int(input(\"enter the no.of uppercase letter\"))\n",
    "num=int(input(\"enter the no.of numbers\"))\n",
    "sym=int(input(\"enter the no.of symbols\"))\n",
    "total=low+upp+num+sym\n",
    "lower=string.ascii_lowercase\n",
    "upper=string.ascii_uppercase\n",
    "number=string.digits\n",
    "symbols=string.punctuation\n",
    "a=lower+upper+number+symbols\n",
    "for i in range(len):\n",
    "    for j in range(total):\n",
    "     password=password+random.choice(a)\n",
    "print(password)\n"
   ]
  },
  {
   "cell_type": "code",
   "execution_count": null,
   "id": "82b50fe6-dd53-4d99-9611-53e77e6d873d",
   "metadata": {},
   "outputs": [],
   "source": [
    "import random\n",
    "import string\n",
    "lower=string.ascii_lowercase\n",
    "upper=string.ascii_uppercase\n",
    "number=string.digits\n",
    "symbols=string.punctuation\n",
    "def generator_password(length,num_passwords):\n",
    "    a=lower+upper+number+symbols\n",
    "    for i in range(num_passwords):\n",
    "        password=\"\"\n",
    "        for j in range(length):\n",
    "             password=password+random.choice(a)\n",
    "        print(password)\n",
    "while True:\n",
    "    try:\n",
    "        password_len=int(input(\"enter the password length\"))\n",
    "        if password_len<=0:\n",
    "            print(\"password length should be greater than 0\")\n",
    "        else:\n",
    "            break\n",
    "    except ValueError:\n",
    "        print(\"invalid enter the valid value\")\n",
    "\n",
    "while True:\n",
    "    #try:\n",
    "        #num_password=int(input(\"enter the number of passwords to generate\"))\n",
    "        if num_password<=0:\n",
    "            #print(\"password length should be greater than 0\")\n",
    "        #else:\n",
    "           # break\n",
    "    except ValueError:\n",
    "        print(\"invalid enter the valid value\")\n",
    "low=int(input(\"enter the no.of lowercase letters\"))\n",
    "upp=int(input(\"enter the no.of uppercase letter\"))\n",
    "num=int(input(\"enter the no.of numbers\"))\n",
    "sym=int(input(\"enter the no.of symbols\"))\n",
    "total=low+upp+num+sym\n",
    "generator_password(password_len,num_password)\n",
    "while True:\n",
    "    if total==password_len:\n",
    "        break\n",
    "    else:\n",
    "        print(\"the total letters,numbers,symbols should be equal\",password_len)\n",
    "    \n",
    "\n",
    "generator_password(password_len,num_password)  "
   ]
  },
  {
   "cell_type": "code",
   "execution_count": 3,
   "id": "2c73b959-b069-42eb-a5f3-80cce741966b",
   "metadata": {},
   "outputs": [
    {
     "name": "stdout",
     "output_type": "stream",
     "text": [
      "welcome to password generator\n"
     ]
    },
    {
     "name": "stdin",
     "output_type": "stream",
     "text": [
      "enter the person name: srinu\n",
      "enter the label for the password(eg:email,facebook): twitter\n",
      "enter the total length of password: 9\n",
      "enter the no.of lowercase letters: 2\n",
      "enter the no.of uppercase letter: 2\n",
      "enter the no.of numbers: 2\n",
      "enter the no.of symbols: 2\n"
     ]
    },
    {
     "name": "stdout",
     "output_type": "stream",
     "text": [
      "the total of letters,number,symbols: 9\n"
     ]
    },
    {
     "name": "stdin",
     "output_type": "stream",
     "text": [
      "enter the no.of lowercase letters: 2\n",
      "enter the no.of uppercase letter: 2\n",
      "enter the no.of numbers: 3\n",
      "enter the no.of symbols: 2\n"
     ]
    },
    {
     "name": "stdout",
     "output_type": "stream",
     "text": [
      "generate password: 2Z;=6Zsw5\n",
      "password is generated\n",
      "password saved to 'saved_passwords.txt;.\n"
     ]
    }
   ],
   "source": [
    "import random\n",
    "import string\n",
    "import os\n",
    "print(\"welcome to password generator\")\n",
    "def generate_password():\n",
    " person_name=input(\"enter the person name:\")\n",
    " account=input(\"enter the label for the password(eg:email,facebook):\")\n",
    " total_length=int(input(\"enter the total length of password:\"))\n",
    "\n",
    " while True:\n",
    "     low=int(input(\"enter the no.of lowercase letters:\"))\n",
    "     upp=int(input(\"enter the no.of uppercase letter:\"))\n",
    "     num=int(input(\"enter the no.of numbers:\"))\n",
    "     sym=int(input(\"enter the no.of symbols:\"))\n",
    "     total=low+upp+num+sym\n",
    "     if total!=total_length:\n",
    "         print(\"the total of letters,number,symbols:\",total_length)\n",
    "     else:\n",
    "         break\n",
    " lower=string.ascii_lowercase\n",
    " upper=string.ascii_uppercase\n",
    " number=string.digits\n",
    " symbols=string.punctuation\n",
    " password=[]\n",
    " for i in range(low):\n",
    "     for j in range(1):\n",
    "         password.append(random.choice(lower))\n",
    " for i in range(upp):\n",
    "     for j in range(1):\n",
    "         password.append(random.choice(upper))\n",
    " for i in range(num):\n",
    "     for j in range(1):\n",
    "         password.append(random.choice(number))\n",
    " for i in range(sym):\n",
    "     for j in range(1):\n",
    "         password.append(random.choice(symbols))\n",
    " random.shuffle(password)\n",
    " password1= \"\".join(password)\n",
    " print(\"generate password:\",password1)    \n",
    " print(\"password is generated\")\n",
    " filename=\"saved_passwords.txt\"\n",
    " if not os.path.exists(filename):\n",
    "    with open(filename,\"w\")as file:\n",
    "        file.write(f\"{'Name':<20}{'Account':<20}{'password'}\\n\")\n",
    "        file.write(f\"{'-'*60}\\n\")\n",
    "        \n",
    " with open(filename,\"a\")as file:file.write(f\"{person_name:<20}{account:<20}{password1}\\n\")\n",
    " print(\"password saved to 'saved_passwords.txt;.\")\n",
    "generate_password()"
   ]
  },
  {
   "cell_type": "code",
   "execution_count": null,
   "id": "f8fdb634-a5c4-44e8-97bb-a0fe6a150029",
   "metadata": {},
   "outputs": [],
   "source": []
  }
 ],
 "metadata": {
  "kernelspec": {
   "display_name": "Python 3 (ipykernel)",
   "language": "python",
   "name": "python3"
  },
  "language_info": {
   "codemirror_mode": {
    "name": "ipython",
    "version": 3
   },
   "file_extension": ".py",
   "mimetype": "text/x-python",
   "name": "python",
   "nbconvert_exporter": "python",
   "pygments_lexer": "ipython3",
   "version": "3.8.10"
  }
 },
 "nbformat": 4,
 "nbformat_minor": 5
}
